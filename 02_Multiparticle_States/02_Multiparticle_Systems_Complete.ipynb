{
 "cells": [
  {
   "cell_type": "markdown",
   "metadata": {},
   "source": [
    "\n",
    "# Lab 3 - Multiparticle Systems"
   ]
  },
  {
   "cell_type": "markdown",
   "metadata": {},
   "source": [
    "## IMPORTANT WARNING: Variables names are re-used frequently, so make sure to execute all parts of a question in order."
   ]
  },
  {
   "cell_type": "code",
   "execution_count": 2,
   "metadata": {},
   "outputs": [],
   "source": [
    "from pylab import *"
   ]
  },
  {
   "cell_type": "markdown",
   "metadata": {},
   "source": [
    "Functions to define spin-$s$ matrices:"
   ]
  },
  {
   "cell_type": "code",
   "execution_count": 3,
   "metadata": {},
   "outputs": [],
   "source": [
    "def spinx(s):\n",
    "\n",
    "    n = int(2.0*s+1)\n",
    "    sx = matrix(zeros((n,n)))\n",
    "    for a in range(0,n):\n",
    "        for b in range(0,n):\n",
    "            if (a==b+1):\n",
    "                sx[a,b] = sx[a,b] + 0.5*sqrt((s+1)*(a+b+1)-(a+1)*(b+1))\n",
    "            elif (a==b-1):\n",
    "                sx[a,b] = sx[a,b] + 0.5*sqrt((s+1)*(a+b+1)-(a+1)*(b+1))\n",
    "                \n",
    "    return sx\n",
    "\n",
    "\n",
    "def spiny(s):\n",
    "    n = int(2.0*s+1)\n",
    "    sy = matrix(zeros((n,n),dtype='complex'))\n",
    "\n",
    "    for a in range(0,n):\n",
    "        for b in range(0,n):\n",
    "            if (a==b+1):\n",
    "                sy[a,b] = sy[a,b] + 0.5j*sqrt((s+1)*(a+b+1)-(a+1)*(b+1))\n",
    "            elif (a==b-1):\n",
    "                sy[a,b] = sy[a,b] - 0.5j*sqrt((s+1)*(a+b+1)-(a+1)*(b+1))\n",
    "                \n",
    "    return sy\n",
    "    \n",
    "def spinz(s):\n",
    "    \n",
    "    n = int(2.0*s+1)\n",
    "    sz = matrix(zeros((n,n)))\n",
    "\n",
    "    for a in range(0,n):\n",
    "        for b in range(0,n):\n",
    "    \n",
    "            if (a==b):\n",
    "                sz[a,b] = (s+1-b-1)\n",
    "                \n",
    "    return sz"
   ]
  },
  {
   "cell_type": "markdown",
   "metadata": {},
   "source": [
    "### Higher Spins"
   ]
  },
  {
   "cell_type": "markdown",
   "metadata": {},
   "source": [
    "1. Generate $s=2$ matrices and calculate $\\left[\\hat{S}^{x},\\hat{S}^{y}\\right]$:"
   ]
  },
  {
   "cell_type": "code",
   "execution_count": 4,
   "metadata": {},
   "outputs": [
    {
     "name": "stdout",
     "output_type": "stream",
     "text": [
      "[[0.+2.00000000e+00j 0.+0.00000000e+00j 0.+0.00000000e+00j\n",
      "  0.+0.00000000e+00j 0.+0.00000000e+00j]\n",
      " [0.+0.00000000e+00j 0.+1.00000000e+00j 0.+0.00000000e+00j\n",
      "  0.+0.00000000e+00j 0.+0.00000000e+00j]\n",
      " [0.+0.00000000e+00j 0.+0.00000000e+00j 0.-8.71111819e-17j\n",
      "  0.+0.00000000e+00j 0.+0.00000000e+00j]\n",
      " [0.+0.00000000e+00j 0.+0.00000000e+00j 0.+0.00000000e+00j\n",
      "  0.-1.00000000e+00j 0.+0.00000000e+00j]\n",
      " [0.+0.00000000e+00j 0.+0.00000000e+00j 0.+0.00000000e+00j\n",
      "  0.+0.00000000e+00j 0.-2.00000000e+00j]]\n"
     ]
    }
   ],
   "source": [
    "sx = spinx(2)\n",
    "sy = spiny(2)\n",
    "sz = spinz(2)\n",
    "\n",
    "print(sx*sy-sy*sx)"
   ]
  },
  {
   "cell_type": "markdown",
   "metadata": {},
   "source": [
    "Generally, for arbitrary $s$, one finds\n",
    "\n",
    "$$\\left[\\hat{S}^{x},\\hat{S}^{y}\\right] = i\\hbar\\hat{S}^{z}$$"
   ]
  },
  {
   "cell_type": "markdown",
   "metadata": {},
   "source": [
    "2. Calculate $\\hat{S}^{2}$ for different values of $s$:"
   ]
  },
  {
   "cell_type": "code",
   "execution_count": 5,
   "metadata": {},
   "outputs": [],
   "source": [
    "def Ssq(s):\n",
    "    sx = spinx(s)\n",
    "    sy = spiny(s)\n",
    "    sz = spinz(s)\n",
    "    \n",
    "    s2 = sx**2 + sy**2 + sz**2\n",
    "    \n",
    "    return s2"
   ]
  },
  {
   "cell_type": "code",
   "execution_count": 6,
   "metadata": {},
   "outputs": [
    {
     "name": "stdout",
     "output_type": "stream",
     "text": [
      "[[0.75+0.j 0.  +0.j]\n",
      " [0.  +0.j 0.75+0.j]]\n"
     ]
    }
   ],
   "source": [
    "print(Ssq(0.5))"
   ]
  },
  {
   "cell_type": "code",
   "execution_count": 7,
   "metadata": {},
   "outputs": [
    {
     "name": "stdout",
     "output_type": "stream",
     "text": [
      "[[2.+0.j 0.+0.j 0.+0.j]\n",
      " [0.+0.j 2.+0.j 0.+0.j]\n",
      " [0.+0.j 0.+0.j 2.+0.j]]\n"
     ]
    }
   ],
   "source": [
    "print(Ssq(1.0))"
   ]
  },
  {
   "cell_type": "code",
   "execution_count": 8,
   "metadata": {},
   "outputs": [
    {
     "name": "stdout",
     "output_type": "stream",
     "text": [
      "[[3.75+0.j 0.  +0.j 0.  +0.j 0.  +0.j]\n",
      " [0.  +0.j 3.75+0.j 0.  +0.j 0.  +0.j]\n",
      " [0.  +0.j 0.  +0.j 3.75+0.j 0.  +0.j]\n",
      " [0.  +0.j 0.  +0.j 0.  +0.j 3.75+0.j]]\n"
     ]
    }
   ],
   "source": [
    "print(Ssq(1.5))"
   ]
  },
  {
   "cell_type": "code",
   "execution_count": 9,
   "metadata": {},
   "outputs": [
    {
     "name": "stdout",
     "output_type": "stream",
     "text": [
      "[[6.+0.j 0.+0.j 0.+0.j 0.+0.j 0.+0.j]\n",
      " [0.+0.j 6.+0.j 0.+0.j 0.+0.j 0.+0.j]\n",
      " [0.+0.j 0.+0.j 6.+0.j 0.+0.j 0.+0.j]\n",
      " [0.+0.j 0.+0.j 0.+0.j 6.+0.j 0.+0.j]\n",
      " [0.+0.j 0.+0.j 0.+0.j 0.+0.j 6.+0.j]]\n"
     ]
    }
   ],
   "source": [
    "print(Ssq(2.0))"
   ]
  },
  {
   "cell_type": "markdown",
   "metadata": {},
   "source": [
    "General case: $\\hat{S}^{2} = s(s+1)\\hbar^{2}\\hat{I}$."
   ]
  },
  {
   "cell_type": "markdown",
   "metadata": {},
   "source": [
    "3. Commutators of spin components with $\\hat{S}^{2}$ for $s = \\frac{3}{2}$:"
   ]
  },
  {
   "cell_type": "code",
   "execution_count": 10,
   "metadata": {},
   "outputs": [],
   "source": [
    "s = 1.5\n",
    "S2 = Ssq(s)\n",
    "sx = spinx(s)\n",
    "sy = spiny(s)\n",
    "sz = spinz(s)"
   ]
  },
  {
   "cell_type": "markdown",
   "metadata": {},
   "source": [
    "(a) $\\left[\\hat{S}^{2},\\hat{S}^{x}\\right]$"
   ]
  },
  {
   "cell_type": "code",
   "execution_count": 11,
   "metadata": {},
   "outputs": [
    {
     "name": "stdout",
     "output_type": "stream",
     "text": [
      "[[0.+0.j 0.+0.j 0.+0.j 0.+0.j]\n",
      " [0.+0.j 0.+0.j 0.+0.j 0.+0.j]\n",
      " [0.+0.j 0.+0.j 0.+0.j 0.+0.j]\n",
      " [0.+0.j 0.+0.j 0.+0.j 0.+0.j]]\n"
     ]
    }
   ],
   "source": [
    "print(S2*sx-sx*S2)"
   ]
  },
  {
   "cell_type": "markdown",
   "metadata": {},
   "source": [
    "(b) $\\left[\\hat{S}^{2},\\hat{S}^{y}\\right]$"
   ]
  },
  {
   "cell_type": "code",
   "execution_count": 12,
   "metadata": {},
   "outputs": [
    {
     "name": "stdout",
     "output_type": "stream",
     "text": [
      "[[0.+0.j 0.+0.j 0.+0.j 0.+0.j]\n",
      " [0.+0.j 0.+0.j 0.+0.j 0.+0.j]\n",
      " [0.+0.j 0.+0.j 0.+0.j 0.+0.j]\n",
      " [0.+0.j 0.+0.j 0.+0.j 0.+0.j]]\n"
     ]
    }
   ],
   "source": [
    "print(S2*sy-sy*S2)"
   ]
  },
  {
   "cell_type": "markdown",
   "metadata": {},
   "source": [
    "(c) $\\left[\\hat{S}^{2},\\hat{S}^{z}\\right]$"
   ]
  },
  {
   "cell_type": "code",
   "execution_count": 13,
   "metadata": {},
   "outputs": [
    {
     "name": "stdout",
     "output_type": "stream",
     "text": [
      "[[0.+0.j 0.+0.j 0.+0.j 0.+0.j]\n",
      " [0.+0.j 0.+0.j 0.+0.j 0.+0.j]\n",
      " [0.+0.j 0.+0.j 0.+0.j 0.+0.j]\n",
      " [0.+0.j 0.+0.j 0.+0.j 0.+0.j]]\n"
     ]
    }
   ],
   "source": [
    "print(S2*sz-sz*S2)"
   ]
  },
  {
   "cell_type": "markdown",
   "metadata": {},
   "source": [
    "Yes, the result holds that $\\hat{S}^{2}$ commutes with each component of spin for general $s$ since $\\hat{S}^{2}$ is proportional to the identity matrix (which commutes with any matrix)."
   ]
  },
  {
   "cell_type": "markdown",
   "metadata": {},
   "source": [
    "4. For spin-$\\frac{1}{2}$, verify the square of each component, (e.g., $\\left[\\hat{S}^{x}\\right]^{2}$ is proportional to the identity matrix.)"
   ]
  },
  {
   "cell_type": "code",
   "execution_count": 14,
   "metadata": {},
   "outputs": [
    {
     "name": "stdout",
     "output_type": "stream",
     "text": [
      "[[0.25 0.  ]\n",
      " [0.   0.25]]\n",
      "[[0.25 0.  ]\n",
      " [0.   0.25]]\n",
      "[[0.25 0.  ]\n",
      " [0.   0.25]]\n"
     ]
    }
   ],
   "source": [
    "s = 0.5\n",
    "sx = spinx(s)\n",
    "sy = spinx(s)\n",
    "sz = spinz(s)\n",
    "\n",
    "print(sx**2)\n",
    "print(sy**2)\n",
    "print(sz**2)"
   ]
  },
  {
   "cell_type": "markdown",
   "metadata": {},
   "source": [
    "This does <b>not</b> hold for $s\\neq \\frac{1}{2}$. $\\hat{S}^{z}$ is at least diagonal, but the others are not. For example:"
   ]
  },
  {
   "cell_type": "code",
   "execution_count": 17,
   "metadata": {},
   "outputs": [
    {
     "name": "stdout",
     "output_type": "stream",
     "text": [
      "[[1.         0.         1.22474487 0.         0.        ]\n",
      " [0.         2.5        0.         1.5        0.        ]\n",
      " [1.22474487 0.         3.         0.         1.22474487]\n",
      " [0.         1.5        0.         2.5        0.        ]\n",
      " [0.         0.         1.22474487 0.         1.        ]]\n",
      "[[ 1.        +0.j  0.        +0.j -1.22474487+0.j  0.        +0.j\n",
      "   0.        +0.j]\n",
      " [ 0.        +0.j  2.5       +0.j  0.        +0.j -1.5       +0.j\n",
      "   0.        +0.j]\n",
      " [-1.22474487+0.j  0.        +0.j  3.        +0.j  0.        +0.j\n",
      "  -1.22474487+0.j]\n",
      " [ 0.        +0.j -1.5       +0.j  0.        +0.j  2.5       +0.j\n",
      "   0.        +0.j]\n",
      " [ 0.        +0.j  0.        +0.j -1.22474487+0.j  0.        +0.j\n",
      "   1.        +0.j]]\n",
      "[[4. 0. 0. 0. 0.]\n",
      " [0. 1. 0. 0. 0.]\n",
      " [0. 0. 0. 0. 0.]\n",
      " [0. 0. 0. 1. 0.]\n",
      " [0. 0. 0. 0. 4.]]\n"
     ]
    }
   ],
   "source": [
    "s = 2.0\n",
    "sx = spinx(s)\n",
    "sy = spiny(s)\n",
    "sz = spinz(s)\n",
    "\n",
    "print(sx**2)\n",
    "print(sy**2)\n",
    "print(sz**2)"
   ]
  },
  {
   "cell_type": "markdown",
   "metadata": {},
   "source": [
    "Note, however, that we still have $\\left[\\hat{S}^{x}\\right]^{2} + \\left[\\hat{S}^{x}\\right]^{2} + \\left[\\hat{S}^{x}\\right]^{2} = \\hbar^{2}s(s+1)\\hat{I}$ "
   ]
  },
  {
   "cell_type": "code",
   "execution_count": 18,
   "metadata": {},
   "outputs": [
    {
     "name": "stdout",
     "output_type": "stream",
     "text": [
      "[[6.+0.j 0.+0.j 0.+0.j 0.+0.j 0.+0.j]\n",
      " [0.+0.j 6.+0.j 0.+0.j 0.+0.j 0.+0.j]\n",
      " [0.+0.j 0.+0.j 6.+0.j 0.+0.j 0.+0.j]\n",
      " [0.+0.j 0.+0.j 0.+0.j 6.+0.j 0.+0.j]\n",
      " [0.+0.j 0.+0.j 0.+0.j 0.+0.j 6.+0.j]]\n"
     ]
    }
   ],
   "source": [
    "print(sx**2 + sy**2 + sz**2)"
   ]
  },
  {
   "cell_type": "markdown",
   "metadata": {},
   "source": [
    "### Two spins: entanglement"
   ]
  },
  {
   "cell_type": "markdown",
   "metadata": {},
   "source": [
    "1. The two-spin basis states follow from taking the tensor products by hand:\n",
    "\n",
    "$$\\left|+\\right\\rangle \\left|+\\right\\rangle = \\left(\\begin{array}{c} 1 \\\\ 0\\\\ 0 \\\\ 0\\end{array}\\right).$$\n",
    "$$\\left|+\\right\\rangle \\left|-\\right\\rangle = \\left(\\begin{array}{c} 0 \\\\ 1\\\\ 0 \\\\ 0\\end{array}\\right).$$\n",
    "$$\\left|-\\right\\rangle \\left|+\\right\\rangle = \\left(\\begin{array}{c} 0 \\\\ 0\\\\ 1 \\\\ 0\\end{array}\\right).$$\n",
    "$$\\left|-\\right\\rangle \\left|-\\right\\rangle = \\left(\\begin{array}{c} 0 \\\\ 0\\\\ 0 \\\\ 1\\end{array}\\right).$$"
   ]
  },
  {
   "cell_type": "markdown",
   "metadata": {},
   "source": [
    "To verify the Kronecker product, we define the basis states:"
   ]
  },
  {
   "cell_type": "code",
   "execution_count": 19,
   "metadata": {},
   "outputs": [],
   "source": [
    "plus = array([1.0,0.0])\n",
    "plus.shape = (2,1)\n",
    "\n",
    "minus = array([0.0,1.0])\n",
    "minus.shape = (2,1)"
   ]
  },
  {
   "cell_type": "code",
   "execution_count": 20,
   "metadata": {},
   "outputs": [
    {
     "name": "stdout",
     "output_type": "stream",
     "text": [
      "[[1.]\n",
      " [0.]\n",
      " [0.]\n",
      " [0.]]\n",
      "[[0.]\n",
      " [1.]\n",
      " [0.]\n",
      " [0.]]\n",
      "[[0.]\n",
      " [0.]\n",
      " [1.]\n",
      " [0.]]\n",
      "[[0.]\n",
      " [0.]\n",
      " [0.]\n",
      " [1.]]\n"
     ]
    }
   ],
   "source": [
    "pp = kron(plus,plus)\n",
    "pm = kron(plus,minus)\n",
    "mp = kron(minus,plus)\n",
    "mm = kron(minus,minus)\n",
    "\n",
    "print(pp)\n",
    "print(pm)\n",
    "print(mp)\n",
    "print(mm)"
   ]
  },
  {
   "cell_type": "markdown",
   "metadata": {},
   "source": [
    "Order <b>does</b> matter since kron(plus,minus) and kron(minus,plus) give two <i>different</i> states."
   ]
  },
  {
   "cell_type": "markdown",
   "metadata": {},
   "source": [
    "2. Expectation values of $\\hat{S}^{z} = \\hat{S}^{z}_{1} + \\hat{S}^{z}_{2}$:"
   ]
  },
  {
   "cell_type": "code",
   "execution_count": 21,
   "metadata": {},
   "outputs": [],
   "source": [
    "so = eye(2)\n",
    "sz = spinz(0.5)\n",
    "\n",
    "sztot = kron(sz,so) + kron(so,sz)"
   ]
  },
  {
   "cell_type": "markdown",
   "metadata": {},
   "source": [
    "The expectation values are printed in the order of basis states presented above:"
   ]
  },
  {
   "cell_type": "code",
   "execution_count": 22,
   "metadata": {},
   "outputs": [
    {
     "name": "stdout",
     "output_type": "stream",
     "text": [
      "1.0\n",
      "0.0\n",
      "0.0\n",
      "-1.0\n"
     ]
    }
   ],
   "source": [
    "print(asscalar(dot(conj(pp.transpose()),sztot*pp)))\n",
    "print(asscalar(dot(conj(pm.transpose()),sztot*pm)))\n",
    "print(asscalar(dot(conj(mp.transpose()),sztot*mp)))\n",
    "print(asscalar(dot(conj(mm.transpose()),sztot*mm)))"
   ]
  },
  {
   "cell_type": "markdown",
   "metadata": {},
   "source": [
    "3. Exchange operator $\\hat{\\Pi}$ as a matrix:"
   ]
  },
  {
   "cell_type": "markdown",
   "metadata": {},
   "source": [
    "(a) Since the middle two states are the only ones mixed up, we have\n",
    "\n",
    "$$\\hat{\\Pi} \\dot{=} \\left(\\begin{array}{cccc} 1 & 0 & 0 & 0 \\\\ 0 & 0 & 1 & 0\\\\ 0 & 1 & 0 & 0 \\\\ 0 & 0 & 0 & 1\\end{array}\\right).$$"
   ]
  },
  {
   "cell_type": "markdown",
   "metadata": {},
   "source": [
    "Numerically,"
   ]
  },
  {
   "cell_type": "code",
   "execution_count": 23,
   "metadata": {},
   "outputs": [
    {
     "name": "stdout",
     "output_type": "stream",
     "text": [
      "[[1. 0. 0. 0.]\n",
      " [0. 0. 1. 0.]\n",
      " [0. 1. 0. 0.]\n",
      " [0. 0. 0. 1.]]\n"
     ]
    }
   ],
   "source": [
    "Pi = matrix(zeros((4,4)))\n",
    "Pi[0,0] = 1.0\n",
    "Pi[1,2] = 1.0\n",
    "Pi[2,1] = 1.0\n",
    "Pi[3,3] = 1.0\n",
    "\n",
    "print(Pi)"
   ]
  },
  {
   "cell_type": "markdown",
   "metadata": {},
   "source": [
    "(b) $\\hat{\\Pi}^{2} = \\hat{I}$"
   ]
  },
  {
   "cell_type": "code",
   "execution_count": 24,
   "metadata": {},
   "outputs": [
    {
     "name": "stdout",
     "output_type": "stream",
     "text": [
      "[[1. 0. 0. 0.]\n",
      " [0. 1. 0. 0.]\n",
      " [0. 0. 1. 0.]\n",
      " [0. 0. 0. 1.]]\n"
     ]
    }
   ],
   "source": [
    "print(Pi**2)"
   ]
  },
  {
   "cell_type": "markdown",
   "metadata": {},
   "source": [
    "(c) Eigenvalues/eigenvectors of $\\hat{\\Pi}$; note that the eigenvectors are the <i>columns</i> of the output matrix:"
   ]
  },
  {
   "cell_type": "code",
   "execution_count": 25,
   "metadata": {},
   "outputs": [
    {
     "data": {
      "text/plain": [
       "(array([-1.,  1.,  1.,  1.]),\n",
       " matrix([[ 0.        ,  0.        ,  1.        ,  0.        ],\n",
       "         [-0.70710678,  0.70710678,  0.        ,  0.        ],\n",
       "         [ 0.70710678,  0.70710678,  0.        ,  0.        ],\n",
       "         [ 0.        ,  0.        ,  0.        ,  1.        ]]))"
      ]
     },
     "execution_count": 25,
     "metadata": {},
     "output_type": "execute_result"
    }
   ],
   "source": [
    "eigh(Pi)"
   ]
  },
  {
   "cell_type": "markdown",
   "metadata": {},
   "source": [
    "(d) In terms of kets,\n",
    "\n",
    "$$\\left|u_{1}\\right\\rangle = \\frac{1}{\\sqrt{2}}\\left(\\left|-\\right\\rangle\\left|+\\right\\rangle - \\left|+\\right\\rangle \\left|-\\right\\rangle\\right)\\;\\;\\;\\;\\;\\mbox{ for } \\lambda = -1,$$\n",
    "$$\\left|u_{2}\\right\\rangle = \\frac{1}{\\sqrt{2}}\\left(\\left|-\\right\\rangle\\left|+\\right\\rangle + \\left|+\\right\\rangle \\left|-\\right\\rangle\\right)\\;\\;\\;\\;\\;\\mbox{ for } \\lambda = 1,$$\n",
    "$$\\left|u_{3}\\right\\rangle = \\left|+\\right\\rangle\\left|+\\right\\rangle \\;\\;\\;\\;\\;\\mbox{ for } \\lambda = 1,$$\n",
    "$$\\left|u_{4}\\right\\rangle = \\left|-\\right\\rangle\\left|-\\right\\rangle \\;\\;\\;\\;\\;\\mbox{ for } \\lambda = 1,$$"
   ]
  },
  {
   "cell_type": "markdown",
   "metadata": {},
   "source": [
    "4. Defining spin operators:"
   ]
  },
  {
   "cell_type": "code",
   "execution_count": 26,
   "metadata": {},
   "outputs": [],
   "source": [
    "s = 0.5\n",
    "sx = spinx(s)\n",
    "sy = spiny(s)\n",
    "sz = spinz(s)"
   ]
  },
  {
   "cell_type": "markdown",
   "metadata": {},
   "source": [
    "We combine the operators like $\\hat{S}^{z} = \\hat{S}^{z}_{1} + \\hat{S}^{z}_{2}$"
   ]
  },
  {
   "cell_type": "code",
   "execution_count": 27,
   "metadata": {},
   "outputs": [],
   "source": [
    "sxt = kron(sx,so) + kron(so,sx)\n",
    "syt = kron(sy,so) + kron(so,sy)\n",
    "szt = kron(sz,so) + kron(so,sz)"
   ]
  },
  {
   "cell_type": "markdown",
   "metadata": {},
   "source": [
    "$\\hat{S}^{2}$ follows from squaring the components and adding them:"
   ]
  },
  {
   "cell_type": "code",
   "execution_count": 28,
   "metadata": {},
   "outputs": [
    {
     "name": "stdout",
     "output_type": "stream",
     "text": [
      "[[2.+0.j 0.+0.j 0.+0.j 0.+0.j]\n",
      " [0.+0.j 1.+0.j 1.+0.j 0.+0.j]\n",
      " [0.+0.j 1.+0.j 1.+0.j 0.+0.j]\n",
      " [0.+0.j 0.+0.j 0.+0.j 2.+0.j]]\n"
     ]
    }
   ],
   "source": [
    "S2 = (sxt**2) + (syt**2) + (szt**2)\n",
    "print(S2)"
   ]
  },
  {
   "cell_type": "markdown",
   "metadata": {},
   "source": [
    "Since the matrix is <i>not</i> diagonal, we can obtain the eigenvectors/eigenvalues numerically:"
   ]
  },
  {
   "cell_type": "code",
   "execution_count": 29,
   "metadata": {},
   "outputs": [
    {
     "name": "stdout",
     "output_type": "stream",
     "text": [
      "[0. 2. 2. 2.]\n",
      "[[ 0.        +0.j  0.        +0.j  1.        +0.j  0.        +0.j]\n",
      " [-0.70710678+0.j  0.70710678+0.j  0.        +0.j  0.        +0.j]\n",
      " [ 0.70710678+0.j  0.70710678+0.j  0.        +0.j  0.        +0.j]\n",
      " [ 0.        +0.j  0.        +0.j  0.        +0.j  1.        +0.j]]\n"
     ]
    }
   ],
   "source": [
    "u,v = eigh(S2)\n",
    "print(u)\n",
    "print(v)"
   ]
  },
  {
   "cell_type": "markdown",
   "metadata": {},
   "source": [
    "(a) For an eigenstate of $\\hat{S}^{2}$, the eigenvalue corresponds to the value $s(s+1)$ fixing the spin of the system."
   ]
  },
  {
   "cell_type": "markdown",
   "metadata": {},
   "source": [
    "(b) There is one eigenvector $\\frac{1}{\\sqrt{2}}\\left(\\left|-\\right\\rangle\\left|+\\right\\rangle - \\left|+\\right\\rangle\\left|-\\right\\rangle\\right)$ with eigenvalue $s(s+1) = 0$ corresponding to a spin zero state. \n",
    "\n",
    "There are three eigenvectors, $\\left|+\\right\\rangle\\left|+\\right\\rangle$, $\\left|-\\right\\rangle\\left|-\\right\\rangle$, $\\frac{1}{\\sqrt{2}}\\left(\\left|-\\right\\rangle\\left|+\\right\\rangle + \\left|+\\right\\rangle\\left|-\\right\\rangle\\right)$, with $s(s+1) = 2$ corresponding to a spin-one \"triplet\" of states.\n",
    "\n",
    "The eigenvectors are the <b>same</b> as those for the operator $\\hat{\\Pi}$."
   ]
  },
  {
   "cell_type": "markdown",
   "metadata": {},
   "source": [
    "(c) According to the $\\hat{S}^{2}$ operator, the state $\\frac{1}{\\sqrt{2}}\\left(\\left|+\\right\\rangle \\left|-\\right\\rangle - \\left|-\\right\\rangle\\left|+\\right\\rangle\\right)$ is a spinless state ($s=0$) while the state $\\frac{1}{\\sqrt{2}}\\left(\\left|+\\right\\rangle\\left|-\\right\\rangle + \\left|-\\right\\rangle\\left|+\\right\\rangle\\right)$ is a spin one state <i>with zero projection along the $z$-axis."
   ]
  },
  {
   "cell_type": "markdown",
   "metadata": {},
   "source": [
    "5. Expectation values of:"
   ]
  },
  {
   "cell_type": "code",
   "execution_count": 30,
   "metadata": {},
   "outputs": [],
   "source": [
    "sz = spinz(0.5)\n",
    "s1z = kron(sz,so)\n",
    "s2z = kron(so,sz)\n",
    "s1zs2z = kron(sz,sz)"
   ]
  },
  {
   "cell_type": "markdown",
   "metadata": {},
   "source": [
    "(a) $\\left|+\\right\\rangle\\left|+\\right\\rangle$"
   ]
  },
  {
   "cell_type": "code",
   "execution_count": 31,
   "metadata": {},
   "outputs": [
    {
     "name": "stdout",
     "output_type": "stream",
     "text": [
      "<Sz(1)> = 0.5\n",
      "<Sz(2)> = 0.5\n",
      "<Sz(1)Sz(2)> = 0.25\n"
     ]
    }
   ],
   "source": [
    "psi = array([1.0,0.0,0.0,0.0])\n",
    "psi.shape = (4,1)\n",
    "\n",
    "s1 = asscalar(dot(conj(psi.transpose()),s1z*psi))\n",
    "s2 = asscalar(dot(conj(psi.transpose()),s2z*psi))\n",
    "s1s2 = asscalar(dot(conj(psi.transpose()),s1zs2z*psi))\n",
    "\n",
    "print('<Sz(1)> =',s1)\n",
    "print('<Sz(2)> =',s2)\n",
    "print('<Sz(1)Sz(2)> =',s1s2)"
   ]
  },
  {
   "cell_type": "markdown",
   "metadata": {},
   "source": [
    "(b) $\\frac{1}{\\sqrt{2}}\\left(\\left|+\\right\\rangle \\left|-\\right\\rangle - \\left|-\\right\\rangle \\left|+\\right\\rangle\\right)$"
   ]
  },
  {
   "cell_type": "code",
   "execution_count": 32,
   "metadata": {},
   "outputs": [
    {
     "name": "stdout",
     "output_type": "stream",
     "text": [
      "<Sz(1)> = 0.0\n",
      "<Sz(2)> = 0.0\n",
      "<Sz(1)Sz(2)> = -0.24999999999999994\n"
     ]
    }
   ],
   "source": [
    "psi = array([0.0,1.0/sqrt(2.0),-1.0/sqrt(2.0),0.0])\n",
    "psi.shape = (4,1)\n",
    "\n",
    "s1 = asscalar(dot(conj(psi.transpose()),s1z*psi))\n",
    "s2 = asscalar(dot(conj(psi.transpose()),s2z*psi))\n",
    "s1s2 = asscalar(dot(conj(psi.transpose()),s1zs2z*psi))\n",
    "\n",
    "print('<Sz(1)> =',s1)\n",
    "print('<Sz(2)> =',s2)\n",
    "print('<Sz(1)Sz(2)> =',s1s2)"
   ]
  },
  {
   "cell_type": "markdown",
   "metadata": {},
   "source": [
    "(c) $\\frac{1}{\\sqrt{2}}\\left(\\left|+\\right\\rangle \\left|-\\right\\rangle + \\left|-\\right\\rangle \\left|+\\right\\rangle\\right)$"
   ]
  },
  {
   "cell_type": "code",
   "execution_count": 73,
   "metadata": {},
   "outputs": [
    {
     "name": "stdout",
     "output_type": "stream",
     "text": [
      "<Sz(1)> = 0.0\n",
      "<Sz(2)> = 0.0\n",
      "<Sz(1)Sz(2)> = -0.24999999999999994\n"
     ]
    }
   ],
   "source": [
    "psi = array([0.0,1.0/sqrt(2.0),1.0/sqrt(2.0),0.0])\n",
    "psi.shape = (4,1)\n",
    "\n",
    "s1 = asscalar(dot(conj(psi.transpose()),s1z*psi))\n",
    "s2 = asscalar(dot(conj(psi.transpose()),s2z*psi))\n",
    "s1s2 = asscalar(dot(conj(psi.transpose()),s1zs2z*psi))\n",
    "\n",
    "print('<Sz(1)> =',s1)\n",
    "print('<Sz(2)> =',s2)\n",
    "print('<Sz(1)Sz(2)> =',s1s2)"
   ]
  },
  {
   "cell_type": "markdown",
   "metadata": {},
   "source": [
    "(d) $\\left|-\\right\\rangle \\left|-\\right\\rangle$"
   ]
  },
  {
   "cell_type": "code",
   "execution_count": 75,
   "metadata": {},
   "outputs": [
    {
     "name": "stdout",
     "output_type": "stream",
     "text": [
      "<Sz(1)> = -0.5\n",
      "<Sz(2)> = -0.5\n",
      "<Sz(1)Sz(2)> = 0.25\n"
     ]
    }
   ],
   "source": [
    "psi = array([0.0,0.0,0.0,1.0])\n",
    "psi.shape = (4,1)\n",
    "\n",
    "s1 = asscalar(dot(conj(psi.transpose()),s1z*psi))\n",
    "s2 = asscalar(dot(conj(psi.transpose()),s2z*psi))\n",
    "s1s2 = asscalar(dot(conj(psi.transpose()),s1zs2z*psi))\n",
    "\n",
    "print('<Sz(1)> =',s1)\n",
    "print('<Sz(2)> =',s2)\n",
    "print('<Sz(1)Sz(2)> =',s1s2)"
   ]
  },
  {
   "cell_type": "markdown",
   "metadata": {},
   "source": [
    "6. Each spin in the superposition states has a vanishing expectation value of spin. However, when the spin is measured it must give $\\pm\\frac{\\hbar}{2}$. Though we can't say with any certainty what value a measurement of the (say) first particle's spin along the $z$ axis will return (both results are equally likely) we <i>can</i> say that the other spin will have the opposite projection of spin. Another way of saying this is that the measurements are <i>highly</i> correlated."
   ]
  },
  {
   "cell_type": "code",
   "execution_count": null,
   "metadata": {},
   "outputs": [],
   "source": []
  }
 ],
 "metadata": {
  "kernelspec": {
   "display_name": "Python 3",
   "language": "python",
   "name": "python3"
  },
  "language_info": {
   "codemirror_mode": {
    "name": "ipython",
    "version": 3
   },
   "file_extension": ".py",
   "mimetype": "text/x-python",
   "name": "python",
   "nbconvert_exporter": "python",
   "pygments_lexer": "ipython3",
   "version": "3.6.8"
  }
 },
 "nbformat": 4,
 "nbformat_minor": 2
}
