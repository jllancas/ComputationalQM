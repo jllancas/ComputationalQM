{
 "cells": [
  {
   "cell_type": "code",
   "execution_count": 1,
   "metadata": {},
   "outputs": [],
   "source": [
    "from pylab import *"
   ]
  },
  {
   "cell_type": "markdown",
   "metadata": {},
   "source": [
    "1. Calculate $\\left\\langle\\psi\\right|\\hat{S}^{\\hat{n}}\\otimes \\hat{S}^{\\hat{n}}\\left|\\psi\\right\\rangle$"
   ]
  },
  {
   "cell_type": "code",
   "execution_count": 2,
   "metadata": {},
   "outputs": [],
   "source": [
    "sx = 0.5*matrix([[0.0,1.0],[1.0,0.0]])\n",
    "sy = 0.5*matrix([[0.0,-1j],[1j,0.0]])\n",
    "sz = 0.5*matrix([[1.0,0.0],[0.0,-1.0]])\n",
    "so = matrix([[1.0,0.0],[0.0,1.0]])"
   ]
  },
  {
   "cell_type": "code",
   "execution_count": 9,
   "metadata": {},
   "outputs": [],
   "source": [
    "psi = (1.0/sqrt(2.0))*array([0.0,1.0,-1.0,0.0])\n",
    "psi.shape = (4,1)"
   ]
  },
  {
   "cell_type": "code",
   "execution_count": 17,
   "metadata": {},
   "outputs": [],
   "source": [
    "phi = pi/2.0\n",
    "theta = pi/2.0\n",
    "\n",
    "nx = cos(phi)*sin(theta)\n",
    "ny = sin(phi)*sin(theta)\n",
    "nz = cos(theta)\n",
    "\n",
    "sn = nx*sx + ny*sy + nz*sz"
   ]
  },
  {
   "cell_type": "code",
   "execution_count": 16,
   "metadata": {},
   "outputs": [
    {
     "name": "stdout",
     "output_type": "stream",
     "text": [
      "-0.24999999999999994\n"
     ]
    }
   ],
   "source": [
    "SnSn = kron(sn,sn)\n",
    "\n",
    "print(real(asscalar(dot(conj(psi.transpose()),SnSn*psi))))"
   ]
  },
  {
   "cell_type": "markdown",
   "metadata": {},
   "source": [
    "For any choice of $\\theta$ and $\\phi$, we find $-\\frac{1}{4}$ (corresponding $-\\frac{\\hbar^{2}}{4}$). That is, perfect anticorrelation exists along any axis."
   ]
  },
  {
   "cell_type": "markdown",
   "metadata": {},
   "source": [
    "2. "
   ]
  },
  {
   "cell_type": "code",
   "execution_count": 40,
   "metadata": {},
   "outputs": [],
   "source": [
    "Nm = 100000\n",
    "\n",
    "Nopp = 0\n",
    "Nsame = 0\n",
    "\n",
    "for i in range(0,Nm):\n",
    "    axis1 = randint(3)\n",
    "    axis2 = randint(3)\n",
    "    \n",
    "    if (axis1==0):\n",
    "        spin1 = -1.0\n",
    "    elif (axis1==1):\n",
    "        spin1 = -1.0\n",
    "    else:\n",
    "        spin1 = 1.0\n",
    "        \n",
    "    if (axis2==0):\n",
    "        spin2 = 1.0\n",
    "    elif (axis2==1):\n",
    "        spin2 = 1.0\n",
    "    else:\n",
    "        spin2 = -1.0\n",
    "        \n",
    "    if (spin1*spin2>0):\n",
    "        Nsame = Nsame + 1\n",
    "    else:\n",
    "        Nopp = Nopp + 1"
   ]
  },
  {
   "cell_type": "code",
   "execution_count": 41,
   "metadata": {},
   "outputs": [
    {
     "name": "stdout",
     "output_type": "stream",
     "text": [
      "0.44551\n",
      "0.55449\n"
     ]
    }
   ],
   "source": [
    "print(Nsame/Nm)\n",
    "print(Nopp/Nm)"
   ]
  },
  {
   "cell_type": "code",
   "execution_count": 42,
   "metadata": {},
   "outputs": [
    {
     "name": "stdout",
     "output_type": "stream",
     "text": [
      "0.4444444444444444\n",
      "0.5555555555555556\n"
     ]
    }
   ],
   "source": [
    "print(4/9)\n",
    "print(5/9)"
   ]
  },
  {
   "cell_type": "markdown",
   "metadata": {},
   "source": [
    "3. Consider generalized singlet:"
   ]
  },
  {
   "cell_type": "code",
   "execution_count": 47,
   "metadata": {},
   "outputs": [],
   "source": [
    "phi1 = pi/4.0\n",
    "theta1 = pi/2.0\n",
    "\n",
    "np = array([cos(theta/2),exp(1j*phi1)*sin(theta/2)])\n",
    "nm = array([sin(theta/2),-exp(1j*phi1)*cos(theta/2)])\n",
    "\n",
    "psi = (1.0/sqrt(2.0))*(kron(np,nm)-kron(nm,np))\n",
    "psi.shape = (4,1)"
   ]
  },
  {
   "cell_type": "markdown",
   "metadata": {},
   "source": [
    "Define new angles for axes."
   ]
  },
  {
   "cell_type": "code",
   "execution_count": 48,
   "metadata": {},
   "outputs": [],
   "source": [
    "phi2 = 0.0\n",
    "theta2 = pi/7.0\n",
    "\n",
    "nx = cos(phi2)*sin(theta2)\n",
    "ny = sin(phi2)*sin(theta2)\n",
    "nz = cos(theta2)\n",
    "\n",
    "sn = nx*sx + ny*sy + nz*sz"
   ]
  },
  {
   "cell_type": "markdown",
   "metadata": {},
   "source": [
    "Show anticorrelation by calculating $\\left\\langle\\psi\\right|\\hat{S}^{\\hat{n}}\\otimes\\hat{S}^{\\hat{n}}\\left|\\psi\\right\\rangle$"
   ]
  },
  {
   "cell_type": "code",
   "execution_count": 49,
   "metadata": {},
   "outputs": [
    {
     "name": "stdout",
     "output_type": "stream",
     "text": [
      "-0.24999999999999994\n"
     ]
    }
   ],
   "source": [
    "SnSn = kron(sn,sn)\n",
    "\n",
    "print(real(asscalar(dot(conj(psi.transpose()),SnSn*psi))))"
   ]
  },
  {
   "cell_type": "markdown",
   "metadata": {},
   "source": [
    "4."
   ]
  },
  {
   "cell_type": "code",
   "execution_count": 51,
   "metadata": {},
   "outputs": [],
   "source": [
    "plus = array([1.0,0.0])\n",
    "plus.shape = (2,1)\n",
    "minus = array([0.0,1.0])\n",
    "minus.shape = (2,1)\n",
    "\n",
    "np = array([cos(theta/2.0),exp(1j*phi)*sin(theta/2.0)])\n",
    "nm = array([sin(theta/2.0),-exp(1j*phi)*cos(theta/2.0)])\n",
    "\n",
    "psi = (1.0/sqrt(2.0))*(kron(plus,minus)-kron(minus,plus))\n",
    "\n",
    "psipp = kron(plus,plus)\n",
    "psipm = kron(plus,minus)\n",
    "psimp = kron(minus,plus)\n",
    "psimm = kron(minus,minus)\n",
    "\n",
    "app = asscalar(dot(conj(psipp.transpose()),psi))\n",
    "apm = asscalar(dot(conj(psipm.transpose()),psi))\n",
    "amp = asscalar(dot(conj(psimp.transpose()),psi))\n",
    "amm = asscalar(dot(conj(psimm.transpose()),psi))"
   ]
  },
  {
   "cell_type": "markdown",
   "metadata": {},
   "source": [
    "Define function to calculate for specified $\\theta$, $\\phi$."
   ]
  },
  {
   "cell_type": "code",
   "execution_count": 67,
   "metadata": {},
   "outputs": [],
   "source": [
    "def probabilities(theta,phi):\n",
    "    plus = array([1.0,0.0])\n",
    "    plus.shape = (2,1)\n",
    "    minus = array([0.0,1.0])\n",
    "    minus.shape = (2,1)\n",
    "\n",
    "    np = array([cos(theta/2.0),exp(1j*phi)*sin(theta/2.0)])\n",
    "    np.shape = (2,1)\n",
    "    \n",
    "    nm = array([sin(theta/2.0),-exp(1j*phi)*cos(theta/2.0)])\n",
    "    nm.shape = (2,1)\n",
    "    \n",
    "    psi = (1.0/sqrt(2.0))*(kron(plus,minus)-kron(minus,plus))\n",
    "    \n",
    "    psipp = kron(np,plus)\n",
    "    psipm = kron(np,minus)\n",
    "    psimp = kron(nm,plus)\n",
    "    psimm = kron(nm,minus)\n",
    "\n",
    "    app = asscalar(dot(conj(psipp.transpose()),psi))\n",
    "    apm = asscalar(dot(conj(psipm.transpose()),psi))\n",
    "    amp = asscalar(dot(conj(psimp.transpose()),psi))\n",
    "    amm = asscalar(dot(conj(psimm.transpose()),psi))\n",
    "    \n",
    "    psame = app*conj(app) + amm*conj(amm)\n",
    "    popp = apm*conj(apm) + amp*conj(amp)\n",
    "    \n",
    "    return real(psame), real(popp)"
   ]
  },
  {
   "cell_type": "code",
   "execution_count": 72,
   "metadata": {},
   "outputs": [
    {
     "name": "stdout",
     "output_type": "stream",
     "text": [
      "0.49999999999999994\n",
      "0.49999999999999994\n"
     ]
    }
   ],
   "source": [
    "p1a, p2a = probabilities(0.0,0)\n",
    "p1b, p2b = probabilities(2.0*pi/3.0,0)\n",
    "p1c, p2c = probabilities(-2.0*pi/3.0,0)\n",
    "\n",
    "print((p1a+p1b+p1c)/3.0)\n",
    "print((p2a+p2b+p2c)/3.0)"
   ]
  },
  {
   "cell_type": "markdown",
   "metadata": {},
   "source": [
    "Quantum mechanics predicts 50/50 split which violates Bell's inequality."
   ]
  },
  {
   "cell_type": "code",
   "execution_count": null,
   "metadata": {},
   "outputs": [],
   "source": []
  }
 ],
 "metadata": {
  "kernelspec": {
   "display_name": "Python 3",
   "language": "python",
   "name": "python3"
  },
  "language_info": {
   "codemirror_mode": {
    "name": "ipython",
    "version": 3
   },
   "file_extension": ".py",
   "mimetype": "text/x-python",
   "name": "python",
   "nbconvert_exporter": "python",
   "pygments_lexer": "ipython3",
   "version": "3.6.8"
  }
 },
 "nbformat": 4,
 "nbformat_minor": 2
}
