{
 "cells": [
  {
   "cell_type": "markdown",
   "metadata": {},
   "source": [
    "# Lab 3 - Multiparticle Systems"
   ]
  },
  {
   "cell_type": "code",
   "execution_count": null,
   "metadata": {},
   "outputs": [],
   "source": [
    "from pylab import *"
   ]
  },
  {
   "cell_type": "markdown",
   "metadata": {},
   "source": [
    "Functions to define spin-$s$ matrices:"
   ]
  },
  {
   "cell_type": "code",
   "execution_count": null,
   "metadata": {},
   "outputs": [],
   "source": [
    "def spinx(s):\n",
    "\n",
    "    n = int(2.0*s+1)\n",
    "    sx = matrix(zeros((n,n)))\n",
    "    for a in range(0,n):\n",
    "        for b in range(0,n):\n",
    "            if (a==b+1):\n",
    "                sx[a,b] = sx[a,b] + 0.5*sqrt((s+1)*(a+b+1)-(a+1)*(b+1))\n",
    "            elif (a==b-1):\n",
    "                sx[a,b] = sx[a,b] + 0.5*sqrt((s+1)*(a+b+1)-(a+1)*(b+1))\n",
    "                \n",
    "    return sx\n",
    "\n",
    "\n",
    "def spiny(s):\n",
    "    n = int(2.0*s+1)\n",
    "    sy = matrix(zeros((n,n),dtype='complex'))\n",
    "\n",
    "    for a in range(0,n):\n",
    "        for b in range(0,n):\n",
    "            if (a==b+1):\n",
    "                sy[a,b] = sy[a,b] + 0.5j*sqrt((s+1)*(a+b+1)-(a+1)*(b+1))\n",
    "            elif (a==b-1):\n",
    "                sy[a,b] = sy[a,b] - 0.5j*sqrt((s+1)*(a+b+1)-(a+1)*(b+1))\n",
    "                \n",
    "    return sy\n",
    "    \n",
    "def spinz(s):\n",
    "    \n",
    "    n = int(2.0*s+1)\n",
    "    sz = matrix(zeros((n,n)))\n",
    "\n",
    "    for a in range(0,n):\n",
    "        for b in range(0,n):\n",
    "    \n",
    "            if (a==b):\n",
    "                sz[a,b] = (s+1-b-1)\n",
    "                \n",
    "    return sz"
   ]
  }
 ],
 "metadata": {
  "kernelspec": {
   "display_name": "Python 3",
   "language": "python",
   "name": "python3"
  },
  "language_info": {
   "codemirror_mode": {
    "name": "ipython",
    "version": 3
   },
   "file_extension": ".py",
   "mimetype": "text/x-python",
   "name": "python",
   "nbconvert_exporter": "python",
   "pygments_lexer": "ipython3",
   "version": "3.6.5"
  }
 },
 "nbformat": 4,
 "nbformat_minor": 2
}
