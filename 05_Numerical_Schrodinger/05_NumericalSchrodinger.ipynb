{
 "cells": [
  {
   "cell_type": "code",
   "execution_count": null,
   "id": "5b94defd",
   "metadata": {},
   "outputs": [],
   "source": [
    "from pylab import *"
   ]
  },
  {
   "cell_type": "code",
   "execution_count": null,
   "id": "af57a6eb",
   "metadata": {},
   "outputs": [],
   "source": [
    "N = 1000\n",
    "H = zeros((N,N))\n",
    "x = linspace(0.0,1.0,N)\n",
    "a = 1.0 #(a = hbar^2/(2m dx^2))\n",
    "V = zeros(N) #replace with f(x) for other potential\n",
    "\n",
    "for i in range(0,N):\n",
    "    if (i<N-1):\n",
    "        H[i,i+1] = -a\n",
    "    if (i>0):\n",
    "        H[i,i-1] = -a\n",
    "    \n",
    "    H[i,i] = 2*a + V[i]\n",
    "\n",
    "w,v = eigh(H)"
   ]
  }
 ],
 "metadata": {
  "kernelspec": {
   "display_name": "Python 3 (ipykernel)",
   "language": "python",
   "name": "python3"
  },
  "language_info": {
   "codemirror_mode": {
    "name": "ipython",
    "version": 3
   },
   "file_extension": ".py",
   "mimetype": "text/x-python",
   "name": "python",
   "nbconvert_exporter": "python",
   "pygments_lexer": "ipython3",
   "version": "3.9.5"
  }
 },
 "nbformat": 4,
 "nbformat_minor": 5
}
