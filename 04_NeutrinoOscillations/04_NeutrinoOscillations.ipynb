{
 "cells": [
  {
   "cell_type": "code",
   "execution_count": 1,
   "metadata": {},
   "outputs": [],
   "source": [
    "from pylab import *"
   ]
  },
  {
   "cell_type": "code",
   "execution_count": 54,
   "metadata": {},
   "outputs": [],
   "source": [
    "#parameters\n",
    "theta13 = 0.5*arcsin(sqrt(0.093))\n",
    "theta12 = 0.5*arcsin(sqrt(0.846))\n",
    "theta23 = 0.5*arcsin(sqrt(0.92))\n",
    "\n",
    "#phases (set to zero)\n",
    "d = 0.0\n",
    "a1 = 0.0\n",
    "a2 = 0.0"
   ]
  },
  {
   "cell_type": "code",
   "execution_count": 60,
   "metadata": {},
   "outputs": [],
   "source": [
    "m21sq = 0.000079\n",
    "m32sq = 0.0027\n",
    "\n",
    "me = 2.0 #electron neutrino, eV/c^2\n",
    "mu = #COMPLETE #muon neutrino, eV/c^2\n",
    "mt = #COMPLETE #tau neutrino, eV/c^2"
   ]
  },
  {
   "cell_type": "code",
   "execution_count": 61,
   "metadata": {},
   "outputs": [],
   "source": [
    "#PMNS mixing matrix\n",
    "# |flavor> = Uc|mass>\n",
    "# |mass> = U|flavor>\n",
    "U = matrix(zeros((3,3)),dtype='complex')\n",
    "U[0,0] = cos(theta12)*cos(theta13)\n",
    "U[0,1] = sin(theta12)*cos(theta13)\n",
    "U[0,2] = sin(theta13)*exp(-1j*d)\n",
    "\n",
    "U[1,0] = -sin(theta12)*cos(theta23)-cos(theta12)*sin(theta23)*sin(theta13)*exp(1j*d)\n",
    "U[1,1] = cos(theta12)*cos(theta23)-sin(theta12)*sin(theta23)*sin(theta13)*exp(1j*d)\n",
    "U[1,2] = sin(theta23)*cos(theta13)\n",
    "\n",
    "U[2,0] = sin(theta12)*sin(theta23) - cos(theta12)*cos(theta23)*sin(theta13)*exp(1j*d)\n",
    "U[2,1] = -cos(theta12)*sin(theta23)-sin(theta12)*cos(theta23)*sin(theta13)*exp(1j*d)\n",
    "U[2,2] = cos(theta23)*cos(theta13)\n",
    "\n",
    "Ud = matrix(zeros((3,3)),dtype='complex')\n",
    "Ud[0,0] = exp(1j*a1/2)\n",
    "Ud[1,1] = exp(1j*a2/2)\n",
    "Ud[2,2] = 1.0\n",
    "\n",
    "U = U*Ud\n",
    "Uc = conj(U.transpose())"
   ]
  },
  {
   "cell_type": "code",
   "execution_count": 62,
   "metadata": {},
   "outputs": [],
   "source": [
    "#Hamiltonian\n",
    "H = matrix(zeros((3,3)))\n",
    "E = 0.10\n",
    "H[0,0] = E + (me**2.0)/(2.0*E)\n",
    "H[1,1] = E + (mu**2.0)/(2.0*E)\n",
    "H[2,2] = E + (mt**2.0)/(2.0*E)\n",
    "\n"
   ]
  },
  {
   "cell_type": "code",
   "execution_count": 67,
   "metadata": {},
   "outputs": [],
   "source": [
    "Nt = 4000\n",
    "tmax = 4000\n",
    "t = linspace(0,tmax,Nt)\n",
    "\n",
    "p1 = zeros(Nt)\n",
    "p2 = zeros(Nt)\n",
    "p3 = zeros(Nt)\n",
    "\n",
    "psi0 = array([0.0,0.0,1.0])\n",
    "psi0.shape = (3,1)\n",
    "\n",
    "for n in range(0,Nt):\n",
    "    #COMPLETE"
   ]
  }
 ],
 "metadata": {
  "kernelspec": {
   "display_name": "Python 3 (ipykernel)",
   "language": "python",
   "name": "python3"
  },
  "language_info": {
   "codemirror_mode": {
    "name": "ipython",
    "version": 3
   },
   "file_extension": ".py",
   "mimetype": "text/x-python",
   "name": "python",
   "nbconvert_exporter": "python",
   "pygments_lexer": "ipython3",
   "version": "3.9.5"
  }
 },
 "nbformat": 4,
 "nbformat_minor": 2
}
